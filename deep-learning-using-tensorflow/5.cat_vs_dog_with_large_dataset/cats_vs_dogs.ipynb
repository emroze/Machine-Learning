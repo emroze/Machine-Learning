{
 "cells": [
  {
   "cell_type": "code",
   "execution_count": 1,
   "metadata": {},
   "outputs": [
    {
     "name": "stdout",
     "output_type": "stream",
     "text": [
      "--2019-10-11 17:08:45--  https://download.microsoft.com/download/3/E/1/3E1C3F21-ECDB-4869-8368-6DEBA77B919F/kagglecatsanddogs_3367a.zip\n",
      "Loaded CA certificate '/etc/ssl/certs/ca-certificates.crt'\n",
      "Resolving download.microsoft.com (download.microsoft.com)... 104.84.156.142, 2600:1417:5e:68b::e59, 2600:1417:5e:6af::e59, ...\n",
      "Connecting to download.microsoft.com (download.microsoft.com)|104.84.156.142|:443... connected.\n",
      "HTTP request sent, awaiting response... 200 OK\n",
      "Length: 824894548 (787M) [application/octet-stream]\n",
      "Saving to: ‘cats-and-dogs.zip’\n",
      "\n",
      "cats-and-dogs.zip   100%[===================>] 786.68M  1.95MB/s    in 6m 40s  \n",
      "\n",
      "2019-10-11 17:15:26 (1.96 MB/s) - ‘cats-and-dogs.zip’ saved [824894548/824894548]\n",
      "\n"
     ]
    }
   ],
   "source": [
    "!wget --no-check-certificate \\\n",
    "    \"https://download.microsoft.com/download/3/E/1/3E1C3F21-ECDB-4869-8368-6DEBA77B919F/kagglecatsanddogs_3367a.zip\" \\\n",
    "    -O \"cats-and-dogs.zip\""
   ]
  },
  {
   "cell_type": "code",
   "execution_count": 2,
   "metadata": {},
   "outputs": [],
   "source": [
    "import zipfile\n",
    "zip_ref = zipfile.ZipFile('cats-and-dogs.zip','r')\n",
    "zip_ref.extractall('cats-and-dogs')\n",
    "zip_ref.close()"
   ]
  },
  {
   "cell_type": "code",
   "execution_count": 3,
   "metadata": {},
   "outputs": [],
   "source": [
    "cat_src_dir = 'cats-and-dogs/PetImages/Cat'\n",
    "cat_train_dir = 'dataset/train/cats'\n",
    "cat_val_dir = 'dataset/test/cats'\n",
    "\n",
    "dog_src_dir = 'cats-and-dogs/PetImages/Dog'\n",
    "dog_train_dir = 'dataset/train/dogs'\n",
    "dog_val_dir = 'dataset/test/dogs'\n",
    "\n",
    "train_dir = 'dataset/train'\n",
    "val_dir = 'dataset/test'"
   ]
  },
  {
   "cell_type": "code",
   "execution_count": 4,
   "metadata": {},
   "outputs": [],
   "source": [
    "import os\n",
    "import numpy as np\n",
    "import shutil\n",
    "from skimage import io"
   ]
  },
  {
   "cell_type": "code",
   "execution_count": 5,
   "metadata": {},
   "outputs": [
    {
     "name": "stdout",
     "output_type": "stream",
     "text": [
      "Deleted file directory cats-and-dogs/PetImages/Dog/11702.jpg\n"
     ]
    },
    {
     "name": "stderr",
     "output_type": "stream",
     "text": [
      "/home/emroze/virtual/lib/python3.7/site-packages/PIL/TiffImagePlugin.py:784: UserWarning: Possibly corrupt EXIF data.  Expecting to read 32 bytes but only got 0. Skipping tag 270\n",
      "  \" Skipping tag %s\" % (size, len(data), tag)\n",
      "/home/emroze/virtual/lib/python3.7/site-packages/PIL/TiffImagePlugin.py:784: UserWarning: Possibly corrupt EXIF data.  Expecting to read 5 bytes but only got 0. Skipping tag 271\n",
      "  \" Skipping tag %s\" % (size, len(data), tag)\n",
      "/home/emroze/virtual/lib/python3.7/site-packages/PIL/TiffImagePlugin.py:784: UserWarning: Possibly corrupt EXIF data.  Expecting to read 8 bytes but only got 0. Skipping tag 272\n",
      "  \" Skipping tag %s\" % (size, len(data), tag)\n",
      "/home/emroze/virtual/lib/python3.7/site-packages/PIL/TiffImagePlugin.py:784: UserWarning: Possibly corrupt EXIF data.  Expecting to read 8 bytes but only got 0. Skipping tag 282\n",
      "  \" Skipping tag %s\" % (size, len(data), tag)\n",
      "/home/emroze/virtual/lib/python3.7/site-packages/PIL/TiffImagePlugin.py:784: UserWarning: Possibly corrupt EXIF data.  Expecting to read 8 bytes but only got 0. Skipping tag 283\n",
      "  \" Skipping tag %s\" % (size, len(data), tag)\n",
      "/home/emroze/virtual/lib/python3.7/site-packages/PIL/TiffImagePlugin.py:784: UserWarning: Possibly corrupt EXIF data.  Expecting to read 20 bytes but only got 0. Skipping tag 306\n",
      "  \" Skipping tag %s\" % (size, len(data), tag)\n",
      "/home/emroze/virtual/lib/python3.7/site-packages/PIL/TiffImagePlugin.py:784: UserWarning: Possibly corrupt EXIF data.  Expecting to read 48 bytes but only got 0. Skipping tag 532\n",
      "  \" Skipping tag %s\" % (size, len(data), tag)\n",
      "/home/emroze/virtual/lib/python3.7/site-packages/PIL/TiffImagePlugin.py:802: UserWarning: Corrupt EXIF data.  Expecting to read 2 bytes but only got 0. \n",
      "  warnings.warn(str(msg))\n"
     ]
    },
    {
     "name": "stdout",
     "output_type": "stream",
     "text": [
      "Deleted file directory cats-and-dogs/PetImages/Cat/10404.jpg\n",
      "Deleted file directory cats-and-dogs/PetImages/Cat/666.jpg\n"
     ]
    }
   ],
   "source": [
    "def remove_corrupted_image(source_dir): ##Remove corrupted Image from Source File\n",
    "    src_fnames = os.listdir(source_dir)\n",
    "    newlist = []\n",
    "    for names in src_fnames:\n",
    "        if names.endswith(\".jpg\"):\n",
    "            newlist.append(names)\n",
    "    src_fnames = np.asarray(newlist,dtype='S256')\n",
    "    total_image = len(src_fnames)\n",
    "    src_dir = np.empty(len(src_fnames),dtype = 'S256')\n",
    "    src_dir[::] = source_dir + '/'\n",
    "    src_dir = np.char.add(src_dir,src_fnames)\n",
    "    for i in range(len(src_dir)):\n",
    "        dir = str(src_dir[i])\n",
    "        dir = dir[2:-1]\n",
    "        try:\n",
    "            img = io.imread(dir)\n",
    "        except:\n",
    "            os.remove(dir)\n",
    "            print('Deleted file directory',dir)\n",
    "remove_corrupted_image(dog_src_dir)  ##remove_corrupted_image(cat image directoru)\n",
    "remove_corrupted_image(cat_src_dir)  ##remove_corrupted_image(dog image directory)"
   ]
  },
  {
   "cell_type": "code",
   "execution_count": 6,
   "metadata": {},
   "outputs": [
    {
     "name": "stdout",
     "output_type": "stream",
     "text": [
      "already exists\n",
      "12498 12498\n",
      "12499 12499\n"
     ]
    }
   ],
   "source": [
    "try:\n",
    "    os.makedirs(cat_train_dir)\n",
    "    os.makedirs(cat_val_dir)\n",
    "    os.makedirs(dog_train_dir)\n",
    "    os.makedirs(dog_val_dir)\n",
    "except FileExistsError:\n",
    "    print('already exists')\n",
    "\n",
    "def split_data(source_dir,trn_dir,val_dir):  ##source directory,train directory,validation directory\n",
    "    src_fnames = os.listdir(source_dir)\n",
    "    newlist = []\n",
    "    for names in src_fnames:\n",
    "        if names.endswith(\".jpg\"):\n",
    "            newlist.append(names)\n",
    "    src_fnames = np.asarray(newlist,dtype='S256')\n",
    "    total_image = len(src_fnames)\n",
    "    \n",
    "    src_dir = np.empty(len(src_fnames),dtype = 'S256')\n",
    "    src_dir[::] = source_dir + '/'\n",
    "    src_dir = np.char.add(src_dir,src_fnames)\n",
    "    \n",
    "    dst_dir = np.empty(len(src_fnames),dtype = 'S256')\n",
    "    dst_dir[:int(.9*total_image)] = trn_dir + '/'\n",
    "    dst_dir[int(.9*total_image):] = val_dir + '/'\n",
    "    dst_dir = np.char.add(dst_dir,src_fnames)\n",
    "\n",
    "    print(len(src_dir),len(dst_dir))\n",
    "    for i in range(len(src_fnames)):\n",
    "        src = str(src_dir[i])\n",
    "        src = src[2:-1]\n",
    "        dst = str(dst_dir[i])\n",
    "        dst = dst[2:-1]\n",
    "        shutil.copyfile(src,dst)\n",
    "        \n",
    "split_data(cat_src_dir,cat_train_dir,cat_val_dir)  ##split_data(cat source directory,cat train directory,cat validation directory)\n",
    "split_data(dog_src_dir,dog_train_dir,dog_val_dir)  ##split_data(dog source directory,dog train directory,dog validation directory)"
   ]
  },
  {
   "cell_type": "code",
   "execution_count": 7,
   "metadata": {},
   "outputs": [
    {
     "name": "stderr",
     "output_type": "stream",
     "text": [
      "/usr/lib/python3.7/site-packages/tensorflow/python/framework/dtypes.py:516: FutureWarning: Passing (type, 1) or '1type' as a synonym of type is deprecated; in a future version of numpy, it will be understood as (type, (1,)) / '(1,)type'.\n",
      "  _np_qint8 = np.dtype([(\"qint8\", np.int8, 1)])\n",
      "/usr/lib/python3.7/site-packages/tensorflow/python/framework/dtypes.py:517: FutureWarning: Passing (type, 1) or '1type' as a synonym of type is deprecated; in a future version of numpy, it will be understood as (type, (1,)) / '(1,)type'.\n",
      "  _np_quint8 = np.dtype([(\"quint8\", np.uint8, 1)])\n",
      "/usr/lib/python3.7/site-packages/tensorflow/python/framework/dtypes.py:518: FutureWarning: Passing (type, 1) or '1type' as a synonym of type is deprecated; in a future version of numpy, it will be understood as (type, (1,)) / '(1,)type'.\n",
      "  _np_qint16 = np.dtype([(\"qint16\", np.int16, 1)])\n",
      "/usr/lib/python3.7/site-packages/tensorflow/python/framework/dtypes.py:519: FutureWarning: Passing (type, 1) or '1type' as a synonym of type is deprecated; in a future version of numpy, it will be understood as (type, (1,)) / '(1,)type'.\n",
      "  _np_quint16 = np.dtype([(\"quint16\", np.uint16, 1)])\n",
      "/usr/lib/python3.7/site-packages/tensorflow/python/framework/dtypes.py:520: FutureWarning: Passing (type, 1) or '1type' as a synonym of type is deprecated; in a future version of numpy, it will be understood as (type, (1,)) / '(1,)type'.\n",
      "  _np_qint32 = np.dtype([(\"qint32\", np.int32, 1)])\n",
      "/usr/lib/python3.7/site-packages/tensorflow/python/framework/dtypes.py:525: FutureWarning: Passing (type, 1) or '1type' as a synonym of type is deprecated; in a future version of numpy, it will be understood as (type, (1,)) / '(1,)type'.\n",
      "  np_resource = np.dtype([(\"resource\", np.ubyte, 1)])\n",
      "/usr/lib/python3.7/site-packages/tensorboard/compat/tensorflow_stub/dtypes.py:541: FutureWarning: Passing (type, 1) or '1type' as a synonym of type is deprecated; in a future version of numpy, it will be understood as (type, (1,)) / '(1,)type'.\n",
      "  _np_qint8 = np.dtype([(\"qint8\", np.int8, 1)])\n",
      "/usr/lib/python3.7/site-packages/tensorboard/compat/tensorflow_stub/dtypes.py:542: FutureWarning: Passing (type, 1) or '1type' as a synonym of type is deprecated; in a future version of numpy, it will be understood as (type, (1,)) / '(1,)type'.\n",
      "  _np_quint8 = np.dtype([(\"quint8\", np.uint8, 1)])\n",
      "/usr/lib/python3.7/site-packages/tensorboard/compat/tensorflow_stub/dtypes.py:543: FutureWarning: Passing (type, 1) or '1type' as a synonym of type is deprecated; in a future version of numpy, it will be understood as (type, (1,)) / '(1,)type'.\n",
      "  _np_qint16 = np.dtype([(\"qint16\", np.int16, 1)])\n",
      "/usr/lib/python3.7/site-packages/tensorboard/compat/tensorflow_stub/dtypes.py:544: FutureWarning: Passing (type, 1) or '1type' as a synonym of type is deprecated; in a future version of numpy, it will be understood as (type, (1,)) / '(1,)type'.\n",
      "  _np_quint16 = np.dtype([(\"quint16\", np.uint16, 1)])\n",
      "/usr/lib/python3.7/site-packages/tensorboard/compat/tensorflow_stub/dtypes.py:545: FutureWarning: Passing (type, 1) or '1type' as a synonym of type is deprecated; in a future version of numpy, it will be understood as (type, (1,)) / '(1,)type'.\n",
      "  _np_qint32 = np.dtype([(\"qint32\", np.int32, 1)])\n",
      "/usr/lib/python3.7/site-packages/tensorboard/compat/tensorflow_stub/dtypes.py:550: FutureWarning: Passing (type, 1) or '1type' as a synonym of type is deprecated; in a future version of numpy, it will be understood as (type, (1,)) / '(1,)type'.\n",
      "  np_resource = np.dtype([(\"resource\", np.ubyte, 1)])\n",
      "WARNING: Logging before flag parsing goes to stderr.\n",
      "W1011 17:18:09.413530 140447285765760 deprecation.py:506] From /usr/lib/python3.7/site-packages/tensorflow/python/ops/init_ops.py:1251: calling VarianceScaling.__init__ (from tensorflow.python.ops.init_ops) with dtype is deprecated and will be removed in a future version.\n",
      "Instructions for updating:\n",
      "Call initializer instance with the dtype argument instead of passing it to the constructor\n"
     ]
    },
    {
     "name": "stdout",
     "output_type": "stream",
     "text": [
      "Model: \"sequential\"\n",
      "_________________________________________________________________\n",
      "Layer (type)                 Output Shape              Param #   \n",
      "=================================================================\n",
      "conv2d (Conv2D)              (None, 298, 298, 16)      448       \n",
      "_________________________________________________________________\n",
      "max_pooling2d (MaxPooling2D) (None, 149, 149, 16)      0         \n",
      "_________________________________________________________________\n",
      "conv2d_1 (Conv2D)            (None, 147, 147, 32)      4640      \n",
      "_________________________________________________________________\n",
      "max_pooling2d_1 (MaxPooling2 (None, 73, 73, 32)        0         \n",
      "_________________________________________________________________\n",
      "conv2d_2 (Conv2D)            (None, 71, 71, 64)        18496     \n",
      "_________________________________________________________________\n",
      "max_pooling2d_2 (MaxPooling2 (None, 35, 35, 64)        0         \n",
      "_________________________________________________________________\n",
      "conv2d_3 (Conv2D)            (None, 33, 33, 64)        36928     \n",
      "_________________________________________________________________\n",
      "max_pooling2d_3 (MaxPooling2 (None, 16, 16, 64)        0         \n",
      "_________________________________________________________________\n",
      "conv2d_4 (Conv2D)            (None, 14, 14, 64)        36928     \n",
      "_________________________________________________________________\n",
      "max_pooling2d_4 (MaxPooling2 (None, 7, 7, 64)          0         \n",
      "_________________________________________________________________\n",
      "flatten (Flatten)            (None, 3136)              0         \n",
      "_________________________________________________________________\n",
      "dense (Dense)                (None, 512)               1606144   \n",
      "_________________________________________________________________\n",
      "dense_1 (Dense)              (None, 1)                 513       \n",
      "=================================================================\n",
      "Total params: 1,704,097\n",
      "Trainable params: 1,704,097\n",
      "Non-trainable params: 0\n",
      "_________________________________________________________________\n"
     ]
    }
   ],
   "source": [
    "import tensorflow as tf\n",
    "\n",
    "model = tf.keras.Sequential()\n",
    "model.add(tf.keras.layers.Conv2D(16,(3,3),activation = 'relu',input_shape = (300,300,3)))\n",
    "model.add(tf.keras.layers.MaxPooling2D(2,2))\n",
    "model.add(tf.keras.layers.Conv2D(32,(3,3),activation = 'relu'))\n",
    "model.add(tf.keras.layers.MaxPooling2D(2,2))\n",
    "model.add(tf.keras.layers.Conv2D(64,(3,3),activation = 'relu'))\n",
    "model.add(tf.keras.layers.MaxPooling2D(2,2))\n",
    "model.add(tf.keras.layers.Conv2D(64,(3,3),activation = 'relu'))\n",
    "model.add(tf.keras.layers.MaxPooling2D(2,2))\n",
    "model.add(tf.keras.layers.Conv2D(64,(3,3),activation = 'relu'))\n",
    "model.add(tf.keras.layers.MaxPooling2D(2,2))\n",
    "model.add(tf.keras.layers.Flatten())\n",
    "model.add(tf.keras.layers.Dense(512,activation = 'relu'))\n",
    "model.add(tf.keras.layers.Dense(1,activation = 'sigmoid'))\n",
    "\n",
    "model.summary()"
   ]
  },
  {
   "cell_type": "code",
   "execution_count": 8,
   "metadata": {},
   "outputs": [
    {
     "name": "stderr",
     "output_type": "stream",
     "text": [
      "W1011 17:18:16.467804 140447285765760 deprecation.py:323] From /usr/lib/python3.7/site-packages/tensorflow/python/ops/nn_impl.py:180: add_dispatch_support.<locals>.wrapper (from tensorflow.python.ops.array_ops) is deprecated and will be removed in a future version.\n",
      "Instructions for updating:\n",
      "Use tf.where in 2.0, which has the same broadcast rule as np.where\n"
     ]
    }
   ],
   "source": [
    "from tensorflow.keras.optimizers import RMSprop\n",
    "\n",
    "model.compile(optimizer = RMSprop(lr=0.001),loss = 'binary_crossentropy',metrics = ['acc'])"
   ]
  },
  {
   "cell_type": "code",
   "execution_count": 9,
   "metadata": {},
   "outputs": [
    {
     "name": "stdout",
     "output_type": "stream",
     "text": [
      "Found 22497 images belonging to 2 classes.\n",
      "Found 2500 images belonging to 2 classes.\n"
     ]
    }
   ],
   "source": [
    "from tensorflow.keras.preprocessing.image import ImageDataGenerator\n",
    "\n",
    "train_datagen = ImageDataGenerator(rescale = 1./255.)\n",
    "validation_datagen = ImageDataGenerator(rescale = 1./255.)\n",
    "\n",
    "train_generator = train_datagen.flow_from_directory(\n",
    "    train_dir,\n",
    "    batch_size = 50,\n",
    "    class_mode = 'binary',\n",
    "    target_size = (300,300)\n",
    ")\n",
    "\n",
    "validation_generator = validation_datagen.flow_from_directory(\n",
    "    val_dir,\n",
    "    batch_size = 10,\n",
    "    class_mode = 'binary',\n",
    "    target_size = (300,300)\n",
    ")"
   ]
  },
  {
   "cell_type": "code",
   "execution_count": 10,
   "metadata": {},
   "outputs": [
    {
     "name": "stdout",
     "output_type": "stream",
     "text": [
      "Epoch 1/15\n",
      "414/450 [==========================>...] - ETA: 5s - loss: 0.6317 - acc: 0.6428"
     ]
    },
    {
     "name": "stderr",
     "output_type": "stream",
     "text": [
      "/home/emroze/virtual/lib/python3.7/site-packages/PIL/TiffImagePlugin.py:784: UserWarning: Possibly corrupt EXIF data.  Expecting to read 32 bytes but only got 0. Skipping tag 270\n",
      "  \" Skipping tag %s\" % (size, len(data), tag)\n",
      "/home/emroze/virtual/lib/python3.7/site-packages/PIL/TiffImagePlugin.py:784: UserWarning: Possibly corrupt EXIF data.  Expecting to read 5 bytes but only got 0. Skipping tag 271\n",
      "  \" Skipping tag %s\" % (size, len(data), tag)\n",
      "/home/emroze/virtual/lib/python3.7/site-packages/PIL/TiffImagePlugin.py:784: UserWarning: Possibly corrupt EXIF data.  Expecting to read 8 bytes but only got 0. Skipping tag 272\n",
      "  \" Skipping tag %s\" % (size, len(data), tag)\n",
      "/home/emroze/virtual/lib/python3.7/site-packages/PIL/TiffImagePlugin.py:784: UserWarning: Possibly corrupt EXIF data.  Expecting to read 8 bytes but only got 0. Skipping tag 282\n",
      "  \" Skipping tag %s\" % (size, len(data), tag)\n",
      "/home/emroze/virtual/lib/python3.7/site-packages/PIL/TiffImagePlugin.py:784: UserWarning: Possibly corrupt EXIF data.  Expecting to read 8 bytes but only got 0. Skipping tag 283\n",
      "  \" Skipping tag %s\" % (size, len(data), tag)\n",
      "/home/emroze/virtual/lib/python3.7/site-packages/PIL/TiffImagePlugin.py:784: UserWarning: Possibly corrupt EXIF data.  Expecting to read 20 bytes but only got 0. Skipping tag 306\n",
      "  \" Skipping tag %s\" % (size, len(data), tag)\n",
      "/home/emroze/virtual/lib/python3.7/site-packages/PIL/TiffImagePlugin.py:784: UserWarning: Possibly corrupt EXIF data.  Expecting to read 48 bytes but only got 0. Skipping tag 532\n",
      "  \" Skipping tag %s\" % (size, len(data), tag)\n",
      "/home/emroze/virtual/lib/python3.7/site-packages/PIL/TiffImagePlugin.py:802: UserWarning: Corrupt EXIF data.  Expecting to read 2 bytes but only got 0. \n",
      "  warnings.warn(str(msg))\n"
     ]
    },
    {
     "name": "stdout",
     "output_type": "stream",
     "text": [
      "450/450 [==============================] - 81s 180ms/step - loss: 0.6265 - acc: 0.6475 - val_loss: 0.5282 - val_acc: 0.7288\n",
      "Epoch 2/15\n",
      "450/450 [==============================] - 77s 171ms/step - loss: 0.4981 - acc: 0.7612 - val_loss: 0.4356 - val_acc: 0.8080\n",
      "Epoch 3/15\n",
      "450/450 [==============================] - 77s 172ms/step - loss: 0.4067 - acc: 0.8140 - val_loss: 0.3643 - val_acc: 0.8504\n",
      "Epoch 4/15\n",
      "450/450 [==============================] - 77s 172ms/step - loss: 0.3398 - acc: 0.8518 - val_loss: 0.3364 - val_acc: 0.8584\n",
      "Epoch 5/15\n",
      "450/450 [==============================] - 78s 173ms/step - loss: 0.2814 - acc: 0.8827 - val_loss: 0.3449 - val_acc: 0.8656\n",
      "Epoch 6/15\n",
      "450/450 [==============================] - 77s 172ms/step - loss: 0.2389 - acc: 0.9030 - val_loss: 0.3037 - val_acc: 0.8736\n",
      "Epoch 7/15\n",
      "450/450 [==============================] - 78s 173ms/step - loss: 0.1991 - acc: 0.9195 - val_loss: 0.3053 - val_acc: 0.8764\n",
      "Epoch 8/15\n",
      "450/450 [==============================] - 77s 170ms/step - loss: 0.1693 - acc: 0.9328 - val_loss: 0.2950 - val_acc: 0.8816\n",
      "Epoch 9/15\n",
      "450/450 [==============================] - 76s 169ms/step - loss: 0.1402 - acc: 0.9462 - val_loss: 0.3012 - val_acc: 0.8888\n",
      "Epoch 10/15\n",
      "450/450 [==============================] - 76s 170ms/step - loss: 0.1274 - acc: 0.9533 - val_loss: 0.4059 - val_acc: 0.8856\n",
      "Epoch 11/15\n",
      "450/450 [==============================] - 76s 170ms/step - loss: 0.1073 - acc: 0.9613 - val_loss: 0.2835 - val_acc: 0.8948\n",
      "Epoch 12/15\n",
      "450/450 [==============================] - 76s 170ms/step - loss: 0.0966 - acc: 0.9649 - val_loss: 0.4587 - val_acc: 0.8832\n",
      "Epoch 13/15\n",
      "450/450 [==============================] - 77s 170ms/step - loss: 0.0939 - acc: 0.9680 - val_loss: 0.4307 - val_acc: 0.8928\n",
      "Epoch 14/15\n",
      "450/450 [==============================] - 76s 170ms/step - loss: 0.0904 - acc: 0.9696 - val_loss: 0.4412 - val_acc: 0.8900\n",
      "Epoch 15/15\n",
      "450/450 [==============================] - 76s 170ms/step - loss: 0.0920 - acc: 0.9682 - val_loss: 1.1350 - val_acc: 0.8220\n"
     ]
    }
   ],
   "source": [
    "history = model.fit_generator(\n",
    "    train_generator,\n",
    "    validation_data = validation_generator,\n",
    "#    steps_per_epoch = 100,\n",
    "    epochs = 15,\n",
    "#    validation_steps = 50,\n",
    "    verbose = 1\n",
    ")\n",
    "model.save('cat_vs_dog.model')##save the trained model"
   ]
  },
  {
   "cell_type": "code",
   "execution_count": 11,
   "metadata": {},
   "outputs": [],
   "source": [
    "###Training time will vary depending on your hardware."
   ]
  },
  {
   "cell_type": "code",
   "execution_count": 12,
   "metadata": {},
   "outputs": [],
   "source": [
    "import cv2\n",
    "import numpy as np\n",
    "import matplotlib.pyplot as plt\n",
    "import os\n",
    "import time\n",
    "import tensorflow as tf"
   ]
  },
  {
   "cell_type": "code",
   "execution_count": 13,
   "metadata": {},
   "outputs": [
    {
     "name": "stderr",
     "output_type": "stream",
     "text": [
      "W1011 17:41:55.802547 140447285765760 deprecation.py:506] From /usr/lib/python3.7/site-packages/tensorflow/python/ops/init_ops.py:97: calling GlorotUniform.__init__ (from tensorflow.python.ops.init_ops) with dtype is deprecated and will be removed in a future version.\n",
      "Instructions for updating:\n",
      "Call initializer instance with the dtype argument instead of passing it to the constructor\n",
      "W1011 17:41:55.804121 140447285765760 deprecation.py:506] From /usr/lib/python3.7/site-packages/tensorflow/python/ops/init_ops.py:97: calling Zeros.__init__ (from tensorflow.python.ops.init_ops) with dtype is deprecated and will be removed in a future version.\n",
      "Instructions for updating:\n",
      "Call initializer instance with the dtype argument instead of passing it to the constructor\n"
     ]
    },
    {
     "name": "stdout",
     "output_type": "stream",
     "text": [
      "[0.]\n",
      "[1.]\n",
      "[0.]\n",
      "[1.]\n",
      "[1.]\n",
      "[1.]\n",
      "[1.]\n",
      "[0.]\n",
      "[0.]\n",
      "[0.]\n",
      "[1.]\n",
      "[0.]\n",
      "[0.]\n",
      "[0.]\n",
      "[0.]\n",
      "[1.]\n",
      "[0.]\n",
      "[0.]\n",
      "[0.]\n",
      "[0.]\n"
     ]
    }
   ],
   "source": [
    "new_model = tf.keras.models.load_model('cat_vs_dog.model') ##Reload the saved model.\n",
    "\n",
    "##I am using 20 image for testing.\n",
    "\n",
    "test_fnames = os.listdir('.')\n",
    "newlist = []\n",
    "for names in test_fnames:\n",
    "    if names.endswith(\".jpg\"):\n",
    "        newlist.append(names)\n",
    "test_fnames = np.asarray(newlist,dtype='S256')\n",
    "\n",
    "\n",
    "def predict(img_dir):\n",
    "    image = cv2.imread(img_dir)\n",
    "    image = cv2.resize(image,(300,300))\n",
    "    new_img = cv2.cvtColor(image, cv2.COLOR_BGR2RGB)\n",
    "    new_img = np.expand_dims(new_img, axis=0)\n",
    "    classes = new_model.predict(new_img,batch_size=20)\n",
    "    print(classes[0])\n",
    "    if classes[0]>0.5:\n",
    "        x = \"Dog\"\n",
    "        #print(x)\n",
    "    else:\n",
    "        x = \"Cat\"\n",
    "        #print(x)\n",
    "    image = cv2.putText(image, x, (50, 50), cv2.FONT_HERSHEY_SIMPLEX, 1.5, (0, 0, 255), 6, cv2.LINE_AA)    \n",
    "    cv2.imshow(x, image)\n",
    "    cv2.waitKey(500)\n",
    "    time.sleep(2)\n",
    "    cv2.destroyAllWindows()\n",
    "\n",
    "for i in range(len(test_fnames)):\n",
    "    dir = str(test_fnames[i])\n",
    "    dir = dir[2:-1]\n",
    "    predict(dir)"
   ]
  },
  {
   "cell_type": "code",
   "execution_count": 14,
   "metadata": {},
   "outputs": [
    {
     "data": {
      "text/plain": [
       "Text(0.5, 1.0, 'Training and validation loss')"
      ]
     },
     "execution_count": 14,
     "metadata": {},
     "output_type": "execute_result"
    },
    {
     "data": {
      "image/png": "[encoded data removed]",
      "text/plain": [
       "<Figure size 432x288 with 1 Axes>"
      ]
     },
     "metadata": {
      "needs_background": "light"
     },
     "output_type": "display_data"
    },
    {
     "data": {
      "image/png": "[encoded data removed]",
      "text/plain": [
       "<Figure size 432x288 with 1 Axes>"
      ]
     },
     "metadata": {
      "needs_background": "light"
     },
     "output_type": "display_data"
    }
   ],
   "source": [
    "#-----------------------------------------------------------\n",
    "# Retrieve a list of list results on training and test data\n",
    "# sets for each training epoch\n",
    "#-----------------------------------------------------------\n",
    "acc      = history.history[     'acc' ]\n",
    "val_acc  = history.history[ 'val_acc' ]\n",
    "loss     = history.history[    'loss' ]\n",
    "val_loss = history.history['val_loss' ]\n",
    "\n",
    "epochs   = range(len(acc)) # Get number of epochs\n",
    "\n",
    "#------------------------------------------------\n",
    "# Plot training and validation accuracy per epoch\n",
    "#------------------------------------------------\n",
    "plt.plot  ( epochs,     acc )\n",
    "plt.plot  ( epochs, val_acc )\n",
    "plt.title ('Training and validation accuracy')\n",
    "plt.figure()\n",
    "\n",
    "#------------------------------------------------\n",
    "# Plot training and validation loss per epoch\n",
    "#------------------------------------------------\n",
    "plt.plot  ( epochs,     loss )\n",
    "plt.plot  ( epochs, val_loss )\n",
    "plt.title ('Training and validation loss'   )"
   ]
  },
  {
   "cell_type": "code",
   "execution_count": null,
   "metadata": {},
   "outputs": [],
   "source": []
  }
 ],
 "metadata": {
  "kernelspec": {
   "display_name": "Python 3",
   "language": "python",
   "name": "python3"
  },
  "language_info": {
   "codemirror_mode": {
    "name": "ipython",
    "version": 3
   },
   "file_extension": ".py",
   "mimetype": "text/x-python",
   "name": "python",
   "nbconvert_exporter": "python",
   "pygments_lexer": "ipython3",
   "version": "3.7.4"
  }
 },
 "nbformat": 4,
 "nbformat_minor": 4
}
